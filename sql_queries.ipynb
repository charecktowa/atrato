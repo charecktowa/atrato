{
 "cells": [
  {
   "cell_type": "markdown",
   "id": "9fd79e11",
   "metadata": {},
   "source": [
    "# ERD diagram\n",
    "\n",
    "![ERD Diagram](./mermaid.svg)"
   ]
  },
  {
   "cell_type": "code",
   "execution_count": 34,
   "id": "919bbe1e",
   "metadata": {},
   "outputs": [],
   "source": [
    "import sqlite3\n",
    "\n",
    "def connect_to_db(db_name: str):\n",
    "    try:\n",
    "        conn = sqlite3.connect(db_name)\n",
    "        print(f\"Connected to database {db_name} successfully.\")\n",
    "        return conn\n",
    "    except sqlite3.Error as e:\n",
    "        print(f\"Error connecting to database: {e}\")\n",
    "        return None\n",
    "\n",
    "def create_table(conn: sqlite3.Connection, query: str) -> None:\n",
    "    try:\n",
    "        cursor = conn.cursor()\n",
    "        cursor.execute(query)\n",
    "        conn.commit()\n",
    "        print(\"Table created successfully.\")\n",
    "    except sqlite3.Error as e:\n",
    "        print(f\"Error creating table: {e}\")\n",
    "\n",
    "def insert_data(conn: sqlite3.Connection, query: str, data: tuple) -> None:\n",
    "    try:\n",
    "        cursor = conn.cursor()\n",
    "        cursor.execute(query, data)\n",
    "        conn.commit()\n",
    "        print(\"Data inserted successfully.\")\n",
    "    except sqlite3.Error as e:\n",
    "        print(f\"Error inserting data: {e}\")"
   ]
  },
  {
   "cell_type": "code",
   "execution_count": 35,
   "id": "658acefb",
   "metadata": {},
   "outputs": [],
   "source": [
    "customers_table_sql = \"\"\"\n",
    "CREATE TABLE customers (\n",
    "    id INTEGER PRIMARY KEY,\n",
    "    name TEXT NOT NULL,\n",
    "    surname TEXT NOT NULL,\n",
    "    birthdate DATE NOT NULL,\n",
    "    address TEXT,\n",
    "    zipcode TEXT,\n",
    "    phone_number TEXT\n",
    ");\n",
    "\"\"\"\n",
    "\n",
    "loans_table_sql = \"\"\"\n",
    "CREATE TABLE loans (\n",
    "    id INTEGER PRIMARY KEY,\n",
    "    contract_start_date DATE NOT NULL,\n",
    "    contract_end_date DATE NOT NULL,\n",
    "    total_amount REAL NOT NULL,\n",
    "    payment_frequency TEXT DEFAULT 'Monthly',\n",
    "    payment_amount REAL NOT NULL,\n",
    "    status TEXT DEFAULT 'Active',\n",
    "\n",
    "    -- To connect loans to customers\n",
    "    customer_id INTEGER NOT NULL,\n",
    "    FOREIGN KEY (customer_id) REFERENCES customers (id)\n",
    ");\n",
    "\"\"\"\n",
    "\n",
    "payments_table_sql = \"\"\"\n",
    "CREATE TABLE payments (\n",
    "    id INTEGER PRIMARY KEY,\n",
    "    payment_due_date DATE NOT NULL,\n",
    "    amount_paid REAL,\n",
    "    payment_date DATE,\n",
    "\n",
    "    loan_id INTEGER NOT NULL,\n",
    "    FOREIGN KEY (loan_id) REFERENCES loans (id)\n",
    ");\n",
    "\"\"\""
   ]
  },
  {
   "cell_type": "code",
   "execution_count": 36,
   "id": "74c157fc",
   "metadata": {},
   "outputs": [
    {
     "name": "stdout",
     "output_type": "stream",
     "text": [
      "Connected to database atrato.db successfully.\n",
      "Table created successfully.\n",
      "Table created successfully.\n",
      "Table created successfully.\n"
     ]
    }
   ],
   "source": [
    "# Create the tables\n",
    "db_connection = connect_to_db(\"atrato.db\")\n",
    "\n",
    "if db_connection:\n",
    "    create_table(db_connection, customers_table_sql)\n",
    "    create_table(db_connection, loans_table_sql)\n",
    "    create_table(db_connection, payments_table_sql)\n",
    "    db_connection.close()"
   ]
  },
  {
   "cell_type": "code",
   "execution_count": 37,
   "id": "e9b85d68",
   "metadata": {},
   "outputs": [],
   "source": [
    "customers_insert_sql = \"\"\"\n",
    "INSERT INTO customers (name, surname, birthdate, address, zipcode, phone_number)\n",
    "VALUES (?, ?, ?, ?, ?, ?);\n",
    "\"\"\"\n",
    "\n",
    "loans_insert_sql = \"\"\"\n",
    "INSERT INTO loans (contract_start_date, contract_end_date, total_amount, payment_frequency, payment_amount, status, customer_id)\n",
    "VALUES (?, ?, ?, ?, ?, ?, ?);\n",
    "\"\"\"\n",
    "\n",
    "payments_insert_sql = \"\"\"\n",
    "INSERT INTO payments (payment_due_date, amount_paid, payment_date, loan_id)\n",
    "VALUES (?, ?, ?, ?);\n",
    "\"\"\""
   ]
  },
  {
   "cell_type": "code",
   "execution_count": 38,
   "id": "00875d8d",
   "metadata": {},
   "outputs": [],
   "source": [
    "customers_data = [\n",
    "    (\"Alfredo\", \"Gutiérrez\", \"2001-01-08\", \"Calle muy bonita 123\", \"07300\", \"4646503012\"),\n",
    "    (\"Juanito\", \"Pérez\", \"1995-05-15\", \"Avenida siempre viva 742\", \"99999\", \"1234567890\"),\n",
    "    (\"Perenganito\", \"López\", \"1988-12-30\", \"Boulevard de los sueños rotos 456\", \"716532\", \"0987654321\"),\n",
    "    (\"Homero\", \"Simpson\", \"1970-05-12\", \"Avenida siepreviva 783\", \"4832742\", \"5551234567\"),\n",
    "    (\"Luis\", \"Miguel\", \"1985-04-19\", \"Calle del sol 456\", \"9432723\", \"4449876543\"),\n",
    "    (\"José\", \"José\", \"1990-11-23\", \"Calle luna 789\", \"111111\", \"3335678901\"),\n",
    "    (\"Juan\", \"Gabriel\", \"1975-01-07\", \"Avenida estrellas 321\", \"1264823\", \"2223456789\"),\n",
    "]\n",
    "\n",
    "loans_data = [\n",
    "    (\"2025-01-01\", \"2025-01-01\", 1200.00, \"Monthly\", 100.00, \"Active\", 1),\n",
    "    (\"2025-06-15\", \"2025-06-15\", 6000.00, \"Monthly\", 500.00, \"Completed\", 2),\n",
    "    (\"2025-03-20\", \"2025-03-20\", 2400.00, \"Monthly\", 200.00, \"Active\", 3),\n",
    "    (\"2025-09-10\", \"2025-09-10\", 3000.00, \"Monthly\", 250.00, \"Completed\", 4),\n",
    "    (\"2024-05-05\", \"2024-05-05\", 1500.00, \"Monthly\", 125.00, \"Active\", 5),\n",
    "    (\"2025-12-01\", \"2025-12-01\", 4800.00, \"Monthly\", 400.00, \"Active\", 6),\n",
    "    (\"2025-07-15\", \"2025-07-15\", 3600.00, \"Monthly\", 300.00, \"Active\", 7),\n",
    "\n",
    "    (\"2025-08-01\", \"2025-08-01\", 2400.00, \"Monthly\", 200.00, \"Active\", 2),\n",
    "    (\"2026-01-01\", \"2026-01-01\", 4800.00, \"Monthly\", 400.00, \"Active\", 6),\n",
    "    (\"2025-08-15\", \"2025-08-15\", 3600.00, \"Monthly\", 300.00, \"Active\", 7),\n",
    "]\n",
    "\n",
    "payments_data = [\n",
    "    (\"2025-02-01\", 100.00, \"2025-02-01\", 1),\n",
    "    (\"2025-03-01\", 100.00, \"2025-03-01\", 1),\n",
    "    (\"2025-07-15\", 500.00, \"2025-07-15\", 2),\n",
    "    (\"2025-08-15\", 500.00, \"2025-08-15\", 2),\n",
    "    (\"2025-04-20\", 200.00, \"2025-04-20\", 3),\n",
    "    (\"2025-05-20\", 200.00, \"2025-05-20\", 3),\n",
    "    (\"2025-10-10\", 250.00, \"2025-10-10\", 4),\n",
    "    (\"2024-06-05\", 125.00, \"2024-06-05\", 5),\n",
    "    (\"2024-07-05\", 125.00, \"2024-07-05\", 5),\n",
    "    (\"2025-12-01\", 400.00, \"2025-12-01\", 6),\n",
    "    (\"2026-01-01\", 400.00, \"2026-01-01\", 6),\n",
    "    (\"2025-08-15\", 300.00, \"2025-08-15\", 7),\n",
    "    (\"2025-09-15\", 300.00, \"2025-09-15\", 7),\n",
    "]"
   ]
  },
  {
   "cell_type": "code",
   "execution_count": 39,
   "id": "fe6931e8",
   "metadata": {},
   "outputs": [
    {
     "name": "stdout",
     "output_type": "stream",
     "text": [
      "Connected to database atrato.db successfully.\n",
      "Data inserted successfully.\n",
      "Data inserted successfully.\n",
      "Data inserted successfully.\n",
      "Data inserted successfully.\n",
      "Data inserted successfully.\n",
      "Data inserted successfully.\n",
      "Data inserted successfully.\n",
      "Data inserted successfully.\n",
      "Data inserted successfully.\n",
      "Data inserted successfully.\n",
      "Data inserted successfully.\n",
      "Data inserted successfully.\n",
      "Data inserted successfully.\n",
      "Data inserted successfully.\n",
      "Data inserted successfully.\n",
      "Data inserted successfully.\n",
      "Data inserted successfully.\n",
      "Data inserted successfully.\n",
      "Data inserted successfully.\n",
      "Data inserted successfully.\n",
      "Data inserted successfully.\n",
      "Data inserted successfully.\n",
      "Data inserted successfully.\n",
      "Data inserted successfully.\n",
      "Data inserted successfully.\n",
      "Data inserted successfully.\n",
      "Data inserted successfully.\n",
      "Data inserted successfully.\n",
      "Data inserted successfully.\n",
      "Data inserted successfully.\n"
     ]
    }
   ],
   "source": [
    "# insert the data\n",
    "db_connection = connect_to_db(\"atrato.db\")\n",
    "\n",
    "if db_connection:\n",
    "    for customer in customers_data:\n",
    "        insert_data(db_connection, customers_insert_sql, customer)\n",
    "    \n",
    "    for loan in loans_data:\n",
    "        insert_data(db_connection, loans_insert_sql, loan)\n",
    "    \n",
    "    for payment in payments_data:\n",
    "        insert_data(db_connection, payments_insert_sql, payment)\n",
    "    \n",
    "    db_connection.close()"
   ]
  },
  {
   "cell_type": "code",
   "execution_count": 40,
   "id": "dbf7ca8b",
   "metadata": {},
   "outputs": [],
   "source": [
    "import pandas as pd\n",
    "\n",
    "def execute_query(db_name: str, query: str) -> pd.DataFrame:\n",
    "    conn = connect_to_db(db_name)\n",
    "    if conn:\n",
    "        df = pd.read_sql_query(query, conn)\n",
    "        conn.close()\n",
    "        return df\n",
    "    else:\n",
    "        return pd.DataFrame()"
   ]
  },
  {
   "cell_type": "code",
   "execution_count": 41,
   "id": "738b446a",
   "metadata": {},
   "outputs": [
    {
     "name": "stdout",
     "output_type": "stream",
     "text": [
      "Connected to database atrato.db successfully.\n",
      "Customers with multiple active loans:\n"
     ]
    },
    {
     "data": {
      "application/vnd.microsoft.datawrangler.viewer.v0+json": {
       "columns": [
        {
         "name": "index",
         "rawType": "int64",
         "type": "integer"
        },
        {
         "name": "customer_id",
         "rawType": "int64",
         "type": "integer"
        },
        {
         "name": "name",
         "rawType": "object",
         "type": "string"
        },
        {
         "name": "surname",
         "rawType": "object",
         "type": "string"
        },
        {
         "name": "active_loan_count",
         "rawType": "int64",
         "type": "integer"
        }
       ],
       "ref": "c9531bcd-604d-478b-88d5-020093eceffc",
       "rows": [
        [
         "0",
         "6",
         "José",
         "José",
         "2"
        ],
        [
         "1",
         "7",
         "Juan",
         "Gabriel",
         "2"
        ]
       ],
       "shape": {
        "columns": 4,
        "rows": 2
       }
      },
      "text/html": [
       "<div>\n",
       "<style scoped>\n",
       "    .dataframe tbody tr th:only-of-type {\n",
       "        vertical-align: middle;\n",
       "    }\n",
       "\n",
       "    .dataframe tbody tr th {\n",
       "        vertical-align: top;\n",
       "    }\n",
       "\n",
       "    .dataframe thead th {\n",
       "        text-align: right;\n",
       "    }\n",
       "</style>\n",
       "<table border=\"1\" class=\"dataframe\">\n",
       "  <thead>\n",
       "    <tr style=\"text-align: right;\">\n",
       "      <th></th>\n",
       "      <th>customer_id</th>\n",
       "      <th>name</th>\n",
       "      <th>surname</th>\n",
       "      <th>active_loan_count</th>\n",
       "    </tr>\n",
       "  </thead>\n",
       "  <tbody>\n",
       "    <tr>\n",
       "      <th>0</th>\n",
       "      <td>6</td>\n",
       "      <td>José</td>\n",
       "      <td>José</td>\n",
       "      <td>2</td>\n",
       "    </tr>\n",
       "    <tr>\n",
       "      <th>1</th>\n",
       "      <td>7</td>\n",
       "      <td>Juan</td>\n",
       "      <td>Gabriel</td>\n",
       "      <td>2</td>\n",
       "    </tr>\n",
       "  </tbody>\n",
       "</table>\n",
       "</div>"
      ],
      "text/plain": [
       "   customer_id  name  surname  active_loan_count\n",
       "0            6  José     José                  2\n",
       "1            7  Juan  Gabriel                  2"
      ]
     },
     "execution_count": 41,
     "metadata": {},
     "output_type": "execute_result"
    }
   ],
   "source": [
    "# Select all customers that have multiple active loans\n",
    "query_1 = \"\"\"\n",
    "SELECT\n",
    "    c.id as customer_id,\n",
    "    c.name,\n",
    "    c.surname,\n",
    "    COUNT(l.id) AS active_loan_count\n",
    "FROM\n",
    "    customers c\n",
    "JOIN\n",
    "    loans l ON c.id = l.customer_id\n",
    "WHERE\n",
    "    l.status = 'Active'\n",
    "GROUP BY\n",
    "    c.id, c.name, c.surname\n",
    "HAVING\n",
    "    COUNT(l.id) > 1;\n",
    "\"\"\"\n",
    "\n",
    "df1 = execute_query(\"atrato.db\", query_1)\n",
    "print(\"Customers with multiple active loans:\")\n",
    "df1"
   ]
  },
  {
   "cell_type": "code",
   "execution_count": 42,
   "id": "3f9b5819",
   "metadata": {},
   "outputs": [
    {
     "name": "stdout",
     "output_type": "stream",
     "text": [
      "Connected to database atrato.db successfully.\n",
      "Customers with two consecutive payments on active loans:\n"
     ]
    },
    {
     "data": {
      "application/vnd.microsoft.datawrangler.viewer.v0+json": {
       "columns": [
        {
         "name": "index",
         "rawType": "int64",
         "type": "integer"
        },
        {
         "name": "customer_id",
         "rawType": "int64",
         "type": "integer"
        },
        {
         "name": "name",
         "rawType": "object",
         "type": "string"
        },
        {
         "name": "surname",
         "rawType": "object",
         "type": "string"
        }
       ],
       "ref": "9838c57f-db6e-4485-83e2-39dcec8c2243",
       "rows": [
        [
         "0",
         "1",
         "Alfredo",
         "Gutiérrez"
        ],
        [
         "1",
         "3",
         "Perenganito",
         "López"
        ],
        [
         "2",
         "5",
         "Luis",
         "Miguel"
        ],
        [
         "3",
         "6",
         "José",
         "José"
        ],
        [
         "4",
         "7",
         "Juan",
         "Gabriel"
        ]
       ],
       "shape": {
        "columns": 3,
        "rows": 5
       }
      },
      "text/html": [
       "<div>\n",
       "<style scoped>\n",
       "    .dataframe tbody tr th:only-of-type {\n",
       "        vertical-align: middle;\n",
       "    }\n",
       "\n",
       "    .dataframe tbody tr th {\n",
       "        vertical-align: top;\n",
       "    }\n",
       "\n",
       "    .dataframe thead th {\n",
       "        text-align: right;\n",
       "    }\n",
       "</style>\n",
       "<table border=\"1\" class=\"dataframe\">\n",
       "  <thead>\n",
       "    <tr style=\"text-align: right;\">\n",
       "      <th></th>\n",
       "      <th>customer_id</th>\n",
       "      <th>name</th>\n",
       "      <th>surname</th>\n",
       "    </tr>\n",
       "  </thead>\n",
       "  <tbody>\n",
       "    <tr>\n",
       "      <th>0</th>\n",
       "      <td>1</td>\n",
       "      <td>Alfredo</td>\n",
       "      <td>Gutiérrez</td>\n",
       "    </tr>\n",
       "    <tr>\n",
       "      <th>1</th>\n",
       "      <td>3</td>\n",
       "      <td>Perenganito</td>\n",
       "      <td>López</td>\n",
       "    </tr>\n",
       "    <tr>\n",
       "      <th>2</th>\n",
       "      <td>5</td>\n",
       "      <td>Luis</td>\n",
       "      <td>Miguel</td>\n",
       "    </tr>\n",
       "    <tr>\n",
       "      <th>3</th>\n",
       "      <td>6</td>\n",
       "      <td>José</td>\n",
       "      <td>José</td>\n",
       "    </tr>\n",
       "    <tr>\n",
       "      <th>4</th>\n",
       "      <td>7</td>\n",
       "      <td>Juan</td>\n",
       "      <td>Gabriel</td>\n",
       "    </tr>\n",
       "  </tbody>\n",
       "</table>\n",
       "</div>"
      ],
      "text/plain": [
       "   customer_id         name    surname\n",
       "0            1      Alfredo  Gutiérrez\n",
       "1            3  Perenganito      López\n",
       "2            5         Luis     Miguel\n",
       "3            6         José       José\n",
       "4            7         Juan    Gabriel"
      ]
     },
     "execution_count": 42,
     "metadata": {},
     "output_type": "execute_result"
    }
   ],
   "source": [
    "# Select all customers that have made two consecutive payments of any of their active loans.\n",
    "query_2 = \"\"\"\n",
    "WITH ConsecutivePayments AS (\n",
    "    -- Use ROW_NUMBER to identify consecutive payments for each loan\n",
    "    SELECT\n",
    "        l.customer_id,\n",
    "        p.loan_id,\n",
    "        p.payment_due_date,\n",
    "        p.amount_paid,\n",
    "        ROW_NUMBER() OVER (PARTITION BY p.loan_id ORDER BY p.payment_due_date) as payment_sequence\n",
    "    FROM\n",
    "        payments p\n",
    "    JOIN\n",
    "        loans l ON p.loan_id = l.id\n",
    "    WHERE\n",
    "        p.amount_paid IS NOT NULL AND l.status = 'Active'\n",
    "),\n",
    "\n",
    "-- Find loans where we have at least 2 consecutive payments\n",
    "ConsecutiveLoans AS (\n",
    "    SELECT DISTINCT\n",
    "        customer_id,\n",
    "        loan_id\n",
    "    FROM ConsecutivePayments cp1\n",
    "    WHERE EXISTS (\n",
    "        SELECT 1 \n",
    "        FROM ConsecutivePayments cp2 \n",
    "        WHERE cp2.loan_id = cp1.loan_id \n",
    "        AND cp2.payment_sequence = cp1.payment_sequence + 1\n",
    "    )\n",
    ")\n",
    "\n",
    "-- Get customer details\n",
    "SELECT DISTINCT\n",
    "    c.id as customer_id,\n",
    "    c.name,\n",
    "    c.surname\n",
    "FROM\n",
    "    customers c\n",
    "JOIN\n",
    "    ConsecutiveLoans cl ON c.id = cl.customer_id;\n",
    "\"\"\"\n",
    "\n",
    "df2 = execute_query(\"atrato.db\", query_2)\n",
    "print(\"Customers with two consecutive payments on active loans:\")\n",
    "df2"
   ]
  },
  {
   "cell_type": "code",
   "execution_count": 43,
   "id": "9d4e2f7a",
   "metadata": {},
   "outputs": [
    {
     "name": "stdout",
     "output_type": "stream",
     "text": [
      "Connected to database atrato.db successfully.\n",
      "Aggregates for customers with a single active loan:\n"
     ]
    },
    {
     "data": {
      "application/vnd.microsoft.datawrangler.viewer.v0+json": {
       "columns": [
        {
         "name": "index",
         "rawType": "int64",
         "type": "integer"
        },
        {
         "name": "customer_id",
         "rawType": "int64",
         "type": "integer"
        },
        {
         "name": "name",
         "rawType": "object",
         "type": "string"
        },
        {
         "name": "surname",
         "rawType": "object",
         "type": "string"
        },
        {
         "name": "total_amount_paid",
         "rawType": "float64",
         "type": "float"
        },
        {
         "name": "average_payment_amount",
         "rawType": "float64",
         "type": "float"
        }
       ],
       "ref": "4f3ff6c3-a57b-4d99-81c0-2f4ff9754823",
       "rows": [
        [
         "0",
         "1",
         "Alfredo",
         "Gutiérrez",
         "200.0",
         "100.0"
        ],
        [
         "1",
         "2",
         "Juanito",
         "Pérez",
         "1000.0",
         "500.0"
        ],
        [
         "2",
         "3",
         "Perenganito",
         "López",
         "400.0",
         "200.0"
        ],
        [
         "3",
         "5",
         "Luis",
         "Miguel",
         "250.0",
         "125.0"
        ]
       ],
       "shape": {
        "columns": 5,
        "rows": 4
       }
      },
      "text/html": [
       "<div>\n",
       "<style scoped>\n",
       "    .dataframe tbody tr th:only-of-type {\n",
       "        vertical-align: middle;\n",
       "    }\n",
       "\n",
       "    .dataframe tbody tr th {\n",
       "        vertical-align: top;\n",
       "    }\n",
       "\n",
       "    .dataframe thead th {\n",
       "        text-align: right;\n",
       "    }\n",
       "</style>\n",
       "<table border=\"1\" class=\"dataframe\">\n",
       "  <thead>\n",
       "    <tr style=\"text-align: right;\">\n",
       "      <th></th>\n",
       "      <th>customer_id</th>\n",
       "      <th>name</th>\n",
       "      <th>surname</th>\n",
       "      <th>total_amount_paid</th>\n",
       "      <th>average_payment_amount</th>\n",
       "    </tr>\n",
       "  </thead>\n",
       "  <tbody>\n",
       "    <tr>\n",
       "      <th>0</th>\n",
       "      <td>1</td>\n",
       "      <td>Alfredo</td>\n",
       "      <td>Gutiérrez</td>\n",
       "      <td>200.0</td>\n",
       "      <td>100.0</td>\n",
       "    </tr>\n",
       "    <tr>\n",
       "      <th>1</th>\n",
       "      <td>2</td>\n",
       "      <td>Juanito</td>\n",
       "      <td>Pérez</td>\n",
       "      <td>1000.0</td>\n",
       "      <td>500.0</td>\n",
       "    </tr>\n",
       "    <tr>\n",
       "      <th>2</th>\n",
       "      <td>3</td>\n",
       "      <td>Perenganito</td>\n",
       "      <td>López</td>\n",
       "      <td>400.0</td>\n",
       "      <td>200.0</td>\n",
       "    </tr>\n",
       "    <tr>\n",
       "      <th>3</th>\n",
       "      <td>5</td>\n",
       "      <td>Luis</td>\n",
       "      <td>Miguel</td>\n",
       "      <td>250.0</td>\n",
       "      <td>125.0</td>\n",
       "    </tr>\n",
       "  </tbody>\n",
       "</table>\n",
       "</div>"
      ],
      "text/plain": [
       "   customer_id         name    surname  total_amount_paid  \\\n",
       "0            1      Alfredo  Gutiérrez              200.0   \n",
       "1            2      Juanito      Pérez             1000.0   \n",
       "2            3  Perenganito      López              400.0   \n",
       "3            5         Luis     Miguel              250.0   \n",
       "\n",
       "   average_payment_amount  \n",
       "0                   100.0  \n",
       "1                   500.0  \n",
       "2                   200.0  \n",
       "3                   125.0  "
      ]
     },
     "execution_count": 43,
     "metadata": {},
     "output_type": "execute_result"
    }
   ],
   "source": [
    "# Select the total amount paid and the average number of payments made by\n",
    "# customers that have only one active loan.\n",
    "query_3 = \"\"\"\n",
    "WITH SingleLoanCustomers AS (\n",
    "    -- CTE to find customers with exactly one active loan\n",
    "    SELECT\n",
    "        customer_id\n",
    "    FROM\n",
    "        loans\n",
    "    WHERE\n",
    "        status = 'Active'\n",
    "    GROUP BY\n",
    "        customer_id\n",
    "    HAVING\n",
    "        COUNT(id) = 1\n",
    ")\n",
    "-- Calculate aggregates for these customers\n",
    "SELECT\n",
    "    c.id as customer_id,\n",
    "    c.name,\n",
    "    c.surname,\n",
    "    SUM(p.amount_paid) AS total_amount_paid,\n",
    "    AVG(p.amount_paid) AS average_payment_amount\n",
    "FROM\n",
    "    customers c\n",
    "JOIN\n",
    "    loans l ON c.id = l.customer_id\n",
    "JOIN\n",
    "    payments p ON l.id = p.loan_id\n",
    "WHERE\n",
    "    c.id IN (SELECT customer_id FROM SingleLoanCustomers) AND p.amount_paid IS NOT NULL\n",
    "GROUP BY\n",
    "    c.id, c.name, c.surname;\n",
    "\"\"\"\n",
    "\n",
    "df3 = execute_query(\"atrato.db\", query_3)\n",
    "print(\"Aggregates for customers with a single active loan:\")\n",
    "df3"
   ]
  },
  {
   "cell_type": "code",
   "execution_count": null,
   "id": "41fef908",
   "metadata": {},
   "outputs": [
    {
     "name": "stdout",
     "output_type": "stream",
     "text": [
      "Connected to database atrato.db successfully.\n",
      "Total amount paid by zip code and age bucket:\n"
     ]
    },
    {
     "data": {
      "application/vnd.microsoft.datawrangler.viewer.v0+json": {
       "columns": [
        {
         "name": "index",
         "rawType": "int64",
         "type": "integer"
        },
        {
         "name": "zipcode",
         "rawType": "object",
         "type": "string"
        },
        {
         "name": "age_bucket",
         "rawType": "object",
         "type": "string"
        },
        {
         "name": "total_paid_by_group",
         "rawType": "float64",
         "type": "float"
        }
       ],
       "ref": "f616730d-da12-4802-9063-94db808729af",
       "rows": [
        [
         "0",
         "07300",
         "18-25",
         "100.0"
        ],
        [
         "1",
         "111111",
         "26-35",
         "200.0"
        ],
        [
         "2",
         "1264823",
         "36+",
         "250.0"
        ],
        [
         "3",
         "4832742",
         "36+",
         "500.0"
        ],
        [
         "4",
         "716532",
         "36+",
         "500.0"
        ],
        [
         "5",
         "9432723",
         "36+",
         "200.0"
        ],
        [
         "6",
         "99999",
         "26-35",
         "100.0"
        ]
       ],
       "shape": {
        "columns": 3,
        "rows": 7
       }
      },
      "text/html": [
       "<div>\n",
       "<style scoped>\n",
       "    .dataframe tbody tr th:only-of-type {\n",
       "        vertical-align: middle;\n",
       "    }\n",
       "\n",
       "    .dataframe tbody tr th {\n",
       "        vertical-align: top;\n",
       "    }\n",
       "\n",
       "    .dataframe thead th {\n",
       "        text-align: right;\n",
       "    }\n",
       "</style>\n",
       "<table border=\"1\" class=\"dataframe\">\n",
       "  <thead>\n",
       "    <tr style=\"text-align: right;\">\n",
       "      <th></th>\n",
       "      <th>zipcode</th>\n",
       "      <th>age_bucket</th>\n",
       "      <th>total_paid_by_group</th>\n",
       "    </tr>\n",
       "  </thead>\n",
       "  <tbody>\n",
       "    <tr>\n",
       "      <th>0</th>\n",
       "      <td>07300</td>\n",
       "      <td>18-25</td>\n",
       "      <td>100.0</td>\n",
       "    </tr>\n",
       "    <tr>\n",
       "      <th>1</th>\n",
       "      <td>111111</td>\n",
       "      <td>26-35</td>\n",
       "      <td>200.0</td>\n",
       "    </tr>\n",
       "    <tr>\n",
       "      <th>2</th>\n",
       "      <td>1264823</td>\n",
       "      <td>36+</td>\n",
       "      <td>250.0</td>\n",
       "    </tr>\n",
       "    <tr>\n",
       "      <th>3</th>\n",
       "      <td>4832742</td>\n",
       "      <td>36+</td>\n",
       "      <td>500.0</td>\n",
       "    </tr>\n",
       "    <tr>\n",
       "      <th>4</th>\n",
       "      <td>716532</td>\n",
       "      <td>36+</td>\n",
       "      <td>500.0</td>\n",
       "    </tr>\n",
       "    <tr>\n",
       "      <th>5</th>\n",
       "      <td>9432723</td>\n",
       "      <td>36+</td>\n",
       "      <td>200.0</td>\n",
       "    </tr>\n",
       "    <tr>\n",
       "      <th>6</th>\n",
       "      <td>99999</td>\n",
       "      <td>26-35</td>\n",
       "      <td>100.0</td>\n",
       "    </tr>\n",
       "  </tbody>\n",
       "</table>\n",
       "</div>"
      ],
      "text/plain": [
       "   zipcode age_bucket  total_paid_by_group\n",
       "0    07300      18-25                100.0\n",
       "1   111111      26-35                200.0\n",
       "2  1264823        36+                250.0\n",
       "3  4832742        36+                500.0\n",
       "4   716532        36+                500.0\n",
       "5  9432723        36+                200.0\n",
       "6    99999      26-35                100.0"
      ]
     },
     "execution_count": 47,
     "metadata": {},
     "output_type": "execute_result"
    }
   ],
   "source": [
    "# Select the total amount paid grouped by zip code and age buckets\n",
    "query_4 = \"\"\"\n",
    "SELECT\n",
    "    c.zipcode,\n",
    "    -- Use a CASE statement to create age buckets\n",
    "    CASE\n",
    "        WHEN (strftime('%Y', 'now') - strftime('%Y', c.birthdate)) BETWEEN 18 AND 25 THEN '18-25'\n",
    "        WHEN (strftime('%Y', 'now') - strftime('%Y', c.birthdate)) BETWEEN 26 AND 35 THEN '26-35'\n",
    "        WHEN (strftime('%Y', 'now') - strftime('%Y', c.birthdate)) > 35 THEN '36+'\n",
    "        ELSE 'Under 18'\n",
    "    END AS age_bucket,\n",
    "    SUM(p.amount_paid) AS total_paid_by_group\n",
    "FROM\n",
    "    customers c\n",
    "JOIN\n",
    "    loans l ON c.id = l.id\n",
    "JOIN\n",
    "    payments p ON l.id = p.id\n",
    "WHERE\n",
    "    p.amount_paid IS NOT NULL\n",
    "GROUP BY\n",
    "    c.zipcode, age_bucket\n",
    "ORDER BY\n",
    "    c.zipcode, age_bucket;\n",
    "\"\"\"\n",
    "\n",
    "df4 = execute_query(\"atrato.db\", query_4)\n",
    "print(\"Total amount paid by zip code and age bucket:\")\n",
    "df4"
   ]
  }
 ],
 "metadata": {
  "kernelspec": {
   "display_name": ".venv",
   "language": "python",
   "name": "python3"
  },
  "language_info": {
   "codemirror_mode": {
    "name": "ipython",
    "version": 3
   },
   "file_extension": ".py",
   "mimetype": "text/x-python",
   "name": "python",
   "nbconvert_exporter": "python",
   "pygments_lexer": "ipython3",
   "version": "3.12.3"
  }
 },
 "nbformat": 4,
 "nbformat_minor": 5
}
